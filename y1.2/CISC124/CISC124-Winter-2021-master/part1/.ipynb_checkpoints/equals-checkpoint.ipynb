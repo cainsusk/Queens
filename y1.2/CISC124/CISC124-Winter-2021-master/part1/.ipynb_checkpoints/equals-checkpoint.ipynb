{
 "cells": [
  {
   "cell_type": "markdown",
   "metadata": {},
   "source": [
    "<a id='notebook_id../a>\n",
    "# The difference between `==` and `equals`\n",
    "\n",
    "In Python the operators `==` and `!=` are the *equals* and *not equals* operators. The operators can be used to "
   ]
  },
  {
   "cell_type": "code",
   "execution_count": 8,
   "metadata": {},
   "outputs": [
    {
     "name": "stdout",
     "output_type": "stream",
     "text": [
      "False\n"
     ]
    }
   ],
   "source": [
    "%%python\n",
    "\n",
    "t = [1, 2, 3]\n",
    "s = 'hi'\n",
    "print(s == t)"
   ]
  },
  {
   "cell_type": "markdown",
   "metadata": {},
   "source": [
    "## `==` and `!=`\n",
    "\n",
    "In Java the expression `x == y` checks if `x` and `y` *have the same value* and the expression `x != y` checks if `x` and `y` *have different values*.\n",
    "\n",
    "If `x` and `y` are variables of primitive types then `==` and `!=` can be used to compare `x` and `y` as long as they are both numeric types or they are both of type `boolean`."
   ]
  },
  {
   "cell_type": "code",
   "execution_count": null,
   "metadata": {},
   "outputs": [],
   "source": []
  },
  {
   "cell_type": "markdown",
   "metadata": {},
   "source": [
    "If `x` and `y` are variables of reference types then the meaning of `x == y` in Java is equivalent to `x is y` in Python. In other words, `x == y` in Java means *are x and y references to the same object?*. Similarly, the meaning of `x != y` in Java is equivalent to `x is not y` in Python. In other words, `x != y` in Java means *are x and y references to different objects?*."
   ]
  },
  {
   "cell_type": "code",
   "execution_count": null,
   "metadata": {},
   "outputs": [],
   "source": []
  },
  {
   "cell_type": "markdown",
   "metadata": {},
   "source": [
    "## `equals`\n",
    "\n",
    "If `x` and `y` are both variables of reference type then you should almost always use the `equals` method to compare `x` and `y` for equality. \n",
    "\n",
    "In Java the expression `x.equals(y)` checks if `x` is equal to `y` where the meaning of \"is equal to\" is defined by the implementer of the `equals` method for the class that `x` was created from. For example, consider the `equals` method from the [String](htt..//docs.oracle.../en/j../jav../11/d../../java.b../j../l../String.html#equals(java.lang.Object)) class:\n",
    "\n",
    "```\n",
    "public boolean equals(Object anObject)\n",
    "\n",
    "Compares this string to the specified object. The result is true if and only if the argument is not null and is a String object that represents the same sequence of characters as this object. \n",
    "```\n",
    "\n",
    "A few moments of reflection on the documentation of the `String` `equals` method should convince you that the following snippet prints `true` three times:"
   ]
  },
  {
   "cell_type": "code",
   "execution_count": 9,
   "metadata": {},
   "outputs": [
    {
     "name": "stdout",
     "output_type": "stream",
     "text": [
      "true\n",
      "true\n",
      "true\n"
     ]
    },
    {
     "data": {
      "t../plain": "null"
     },
     "execution_count": 9,
     "metadata": {},
     "output_type": "execute_result"
    }
   ],
   "source": [
    "String s;\n",
    "String t;\n",
    "\n",
    "s = \"hello\";\n",
    "t = s;\n",
    "System.out.println(s.equals(t));\n",
    "\n",
    "s = \"goodbye\";\n",
    "t = new String(\"goodbye\");\n",
    "System.out.println(s.equals(t));\n",
    "\n",
    "String u = \"so long\";\n",
    "s = \"u has length of 7\";\n",
    "t = \"u has length of \" + u.length();\n",
    "System.out.println(s.equals(t));"
   ]
  },
  {
   "cell_type": "markdown",
   "metadata": {},
   "source": [
    "and the following snippet prints `false` three times:"
   ]
  },
  {
   "cell_type": "code",
   "execution_count": 10,
   "metadata": {},
   "outputs": [
    {
     "name": "stdout",
     "output_type": "stream",
     "text": [
      "false\n",
      "false\n",
      "false\n"
     ]
    },
    {
     "data": {
      "t../plain": "null"
     },
     "execution_count": 10,
     "metadata": {},
     "output_type": "execute_result"
    }
   ],
   "source": [
    "String s;\n",
    "String t;\n",
    "\n",
    "s = \"hello\";\n",
    "t = \"Hello\";\n",
    "System.out.println(s.equals(t));..// case matters, \"hello\" is not the same sequence of characters as \"Hello\"\n",
    "\n",
    "s = \"goodbye\";\n",
    "t = new String(\"bye\");\n",
    "System.out.println(s.equals(t));..// \"goodbye\" is not the same sequence of characters as \"bye\"\n",
    "\n",
    "String u = \"5\";\n",
    "Integer v = 5;\n",
    "System.out.println(u.equals(v));..// v is not a String reference"
   ]
  },
  {
   "cell_type": "markdown",
   "metadata": {},
   "source": [
    "`List`s are similar to `String`s in that two lists are equal if they contain the same elements in the same order. The `equals` method from the [List](htt..//docs.oracle.../en/j../jav../11/d../../java.b../j../u../List.html#equals(java.lang.Object)) interface has the following documentation:\n",
    "\n",
    "```\n",
    "boolean equals​(Object o)\n",
    "\n",
    "Compares the specified object with this list for equality. Returns true if and only if the specified object is also a list, both lists have the same size, and all corresponding pairs of elements in the two lists are equal. (Two elements e1 and e2 are equal if Objects.equals(e1, e2).) In other words, two lists are defined to be equal if they contain the same elements in the same order. This definition ensures that the equals method works properly across different implementations of the List interface.\n",
    "```\n",
    "\n",
    "A few moments of reflection on the documentation of the `List` `equals` method should convince you that the following snippet prints `true` three times:"
   ]
  },
  {
   "cell_type": "code",
   "execution_count": 11,
   "metadata": {},
   "outputs": [
    {
     "name": "stdout",
     "output_type": "stream",
     "text": [
      "true\n",
      "true\n",
      "true\n"
     ]
    },
    {
     "data": {
      "t../plain": "null"
     },
     "execution_count": 11,
     "metadata": {},
     "output_type": "execute_result"
    }
   ],
   "source": [
    "import java.util.List;\n",
    "import java.util.ArrayList;\n",
    "\n",
    "List<Integer> s = new ArrayList<>();\n",
    "s.add(1);                            ..// s refers to a list [1]\n",
    "List<Integer> t = s;                 ..// t refers to the same list as s\n",
    "System.out.println(s.equals(t));\n",
    "\n",
    "t = new ArrayList<>();               ..// t refers to a new list\n",
    "t.add(1);                            ..// t refers to a list [1]\n",
    "System.out.println(s.equals(t));\n",
    "\n",
    "s.clear();                           ..// s refers to an empty list\n",
    "t.clear();                           ..// t refers to an empty list (but not the same list as s)\n",
    "System.out.println(s.equals(t));"
   ]
  },
  {
   "cell_type": "markdown",
   "metadata": {},
   "source": [
    "and the following snippet prints `false` three times:"
   ]
  },
  {
   "cell_type": "code",
   "execution_count": 13,
   "metadata": {},
   "outputs": [
    {
     "name": "stdout",
     "output_type": "stream",
     "text": [
      "false\n",
      "false\n",
      "false\n"
     ]
    },
    {
     "data": {
      "t../plain": "null"
     },
     "execution_count": 13,
     "metadata": {},
     "output_type": "execute_result"
    }
   ],
   "source": [
    "import java.util.List;\n",
    "import java.util.ArrayList;\n",
    "\n",
    "List<Integer> s = new ArrayList<>();\n",
    "s.add(1);\n",
    "s.add(2);                            ..// s refers to a list [1, 2]\n",
    "List<Integer> t = new ArrayList<>(); ..// t refers to a new empty list\n",
    "System.out.println(s.equals(t));\n",
    "\n",
    "t.add(2);\n",
    "t.add(1);                            ..// t refers to a list [2, 1]\n",
    "System.out.println(s.equals(t));\n",
    "\n",
    "String u = \"[1, 2]\";\n",
    "System.out.println(s.equals(u));     ..// u is not a List reference"
   ]
  },
  {
   "cell_type": "markdown",
   "metadata": {},
   "source": []
  }
 ],
 "metadata": {
  "kernelspec": {
   "display_name": "Java",
   "language": "java",
   "name": "java"
  },
  "language_info": {
   "codemirror_mode": "text/x-java",
   "file_extension": ".java",
   "mimetype": "",
   "name": "Java",
   "nbconverter_exporter": "",
   "version": "11.0.1-internal"
  },
  "toc": {
   "base_numbering": 1,
   "nav_menu": {},
   "number_sections": false,
   "sideBar": false,
   "skip_h1_title": false,
   "title_cell": "Table of Contents",
   "title_sidebar": "Contents",
   "toc_cell": false,
   "toc_position": {},
   "toc_section_display": false,
   "toc_window_display": false
  }
 },
 "nbformat": 4,
 "nbformat_minor": 4
}
