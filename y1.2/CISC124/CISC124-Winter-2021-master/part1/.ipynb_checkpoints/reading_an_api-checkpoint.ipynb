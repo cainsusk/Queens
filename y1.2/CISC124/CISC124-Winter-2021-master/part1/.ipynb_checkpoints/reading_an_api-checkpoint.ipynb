{
 "cells": [
  {
   "cell_type": "markdown",
   "metadata": {},
   "source": [
    "<a id=\"notebook_id\"></a>\n",
    "# Reading an API\n",
    "\n",
    "An application programming interface (API) for a software library describes how components of the library should behave. The Java Development Kit comes with a large library having its own API that is documented in a standard fashion.\n",
    "\n",
    "An important skill that a Java programmer must learn is how to read Java documentation. The Java Development Kit (Version 11) official documentation home page is:\n",
    "\n",
    "htt..//docs.oracle.../en/j../jav../11/\n",
    "\n",
    "and the Java Platform library documentation home page is:\n",
    "\n",
    "htt..//docs.oracle.../en/j../jav../11/d../../index.html\n",
    "\n",
    "The above web pages contain a wealth of information that is indispensable for all Java practitioners.\n",
    "\n",
    "The Java library is very large and navigating the documentation for the entire library can be difficult for new programmers, especially because the library contains many features that a new programmer will not be familiar with. With some of guidance, patience, and practice any programmer can learn how to read and use Java documentation.\n",
    "\n",
    "Java documentation is presented as HTML web pages. Because of the visual nature of the documentation it is easier to watch a video that explains how to navigate the web pages then it is to read a list of instructions.\n",
    "\n",
    "Run the following cell to view a video tutorial (hosted on YouTube)."
   ]
  },
  {
   "cell_type": "code",
   "execution_count": 1,
   "metadata": {},
   "outputs": [
    {
     "data": {
      "image/jpeg": "[encoded data removed]",
      "text/html": [
       "\n",
       "        <iframe\n",
       "            width=\"560\"\n",
       "            height=\"315\"\n",
       "            src=\"https://www.youtube.com/embed/5q54Oz5R0Q0\"\n",
       "            frameborder=\"0\"\n",
       "            allowfullscreen\n",
       "        ></iframe>\n",
       "        "
      ],
      "text/plain": [
       "<IPython.lib.display.YouTubeVideo at 0x7fd346a14c88>"
      ]
     },
     "execution_count": 1,
     "metadata": {},
     "output_type": "execute_result"
    }
   ],
   "source": [
    "%%python\n",
    "from IPython.display import YouTubeVideo\n",
    "\n",
    "YouTubeVideo('5q54Oz5R0Q0', width=560, height=315)"
   ]
  },
  {
   "cell_type": "markdown",
   "metadata": {},
   "source": [
    "## Exercises\n",
    "\n",
    "1. Find the documentation for the class `Arrays` in the package `java.util`.\n",
    "    * how many public fields does the class have?\n",
    "    * how many public constructors does the class have?\n",
    "    * how many methods *do not* have the `static` modifier?\n",
    "    * what is the name of a method that makes a copy of an array? (there are many)\n",
    "\n",
    "2. Find the documentation for the class `Scanner` in the package `java.util`. Try running the first, third, and fourth examples of using a scanner found in the class description section (you cannot run the second example because it creates a scanner that scans a file). You can use the cell below to run the examples. Note that the cell already imports the class for you."
   ]
  },
  {
   "cell_type": "code",
   "execution_count": null,
   "metadata": {},
   "outputs": [],
   "source": [
    "// Exercise 2\n",
    "import java.util.Scanner;\n",
    "\n",
    "Scanner sc = new Scanner(System.in);\n",
    "int i = sc.nextInt();"
   ]
  },
  {
   "cell_type": "markdown",
   "metadata": {},
   "source": [
    "3. Find the documentation for the class `Math` in `java.lang`. What method would you use to:\n",
    "    * round a `double` value down to the nearest integer value?\n",
    "    * round a `double` value up to the nearest integer value?\n",
    "    * round a `double` value to the nearest integer value?\n",
    "    * accurately compute the value of `a * b + c`?\n",
    "    * accurately compute the distance between the origin and a 2-dimensional point having coordinates $(x, y)$?\n",
    "    * compute the greater value of two `int` values?\n",
    "    * compute the lesser value of two `int` values?\n",
    "    * compute the square root of a `double` value?\n",
    "    \n",
    "4. A `StringBuilder` is one type of string where the programmer can change the characters in the string. Find the documentation for the `StringBuilder` class.\n",
    "    * does the class have any public fields?\n",
    "    * does the class have any public constructors?\n",
    "    * what method would you use to:\n",
    "        - add an `int` to the end of the string?\n",
    "        - find the index of a specified character in the string?\n",
    "            - if the specified character appears more than once in the string, which index is returned?\n",
    "        - change a character in the string (perhaps using its index)?\n",
    "            - can the method throw an exception? what type?\n",
    "        - add a character somewhere in the middle of the string?\n",
    "            - can the method throw an exception? what type?\n",
    "5. The class `Object` is the most important class in the Java language. Find the documentation for the class. There are at least two methods that every Java programmer needs to be familiar with in the `Object` class:\n",
    "    * `equals(Object)`\n",
    "    * `toString()`\n",
    "    \n",
    " What do these two methods do?"
   ]
  }
 ],
 "metadata": {
  "kernelspec": {
   "display_name": "Java",
   "language": "java",
   "name": "java"
  },
  "language_info": {
   "codemirror_mode": "text/x-java",
   "file_extension": ".java",
   "mimetype": "",
   "name": "Java",
   "nbconverter_exporter": "",
   "version": "11.0.1-internal"
  },
  "toc": {
   "base_numbering": 1,
   "nav_menu": {},
   "number_sections": false,
   "sideBar": false,
   "skip_h1_title": false,
   "title_cell": "Table of Contents",
   "title_sidebar": "Contents",
   "toc_cell": false,
   "toc_position": {},
   "toc_section_display": false,
   "toc_window_display": false
  }
 },
 "nbformat": 4,
 "nbformat_minor": 4
}
