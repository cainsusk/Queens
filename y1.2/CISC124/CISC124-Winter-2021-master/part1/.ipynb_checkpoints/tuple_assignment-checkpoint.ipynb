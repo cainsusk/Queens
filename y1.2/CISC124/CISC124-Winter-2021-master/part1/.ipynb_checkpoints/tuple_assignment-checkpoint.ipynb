{
 "cells": [
  {
   "cell_type": "markdown",
   "metadata": {},
   "source": [
    "# Tuple assignment\n",
    "\n",
    "Python allows the programmer to assign values to a tuple of identifiers; for example, the values `1`, `'two'`, and `3.0` can be assigned to the identifiers `a`, `b`, and `c`:"
   ]
  },
  {
   "cell_type": "code",
   "execution_count": 4,
   "metadata": {},
   "outputs": [
    {
     "name": "stdout",
     "output_type": "stream",
     "text": [
      "1\n",
      "two\n",
      "3.0\n",
      "1\n",
      "two\n",
      "3.0\n",
      "1\n",
      "two\n",
      "3.0\n"
     ]
    }
   ],
   "source": [
    "%%python\n",
    "\n",
    "(a, b, c) = 1, 'two', 3.0\n",
    "print(a)\n",
    "print(b)\n",
    "print(c)\n",
    "\n",
    "# the parentheses on the left-hand side of the = operator are optional\n",
    "a, b, c = 1, 'two', 3.0\n",
    "print(a)\n",
    "print(b)\n",
    "print(c)\n",
    "\n",
    "# the identifiers may also be placed in a list\n",
    "[a, b, c] = 1, 'two', 3.0\n",
    "print(a)\n",
    "print(b)\n",
    "print(c)"
   ]
  },
  {
   "cell_type": "markdown",
   "metadata": {},
   "source": [
    "In a Java assignment statement, only one target may appear on the left-hand side of the `=` operator. The Java equivalent of the previous Python example is:"
   ]
  },
  {
   "cell_type": "code",
   "execution_count": 5,
   "metadata": {},
   "outputs": [
    {
     "name": "stdout",
     "output_type": "stream",
     "text": [
      "1\n",
      "two\n",
      "3.0\n"
     ]
    },
    {
     "data": {
      "t../plain": "null"
     },
     "execution_count": 5,
     "metadata": {},
     "output_type": "execute_result"
    }
   ],
   "source": [
    "int a;\n",
    "String b;\n",
    "double c;\n",
    "\n",
    "a = 1;\n",
    "b = \"two\";\n",
    "c = 3.0; ..// or c = 3;\n",
    "\n",
    "System.out.println(a);\n",
    "System.out.println(b);\n",
    "System.out.println(c);"
   ]
  },
  {
   "cell_type": "markdown",
   "metadata": {},
   "source": [
    "## Exercises"
   ]
  },
  {
   "cell_type": "markdown",
   "metadata": {
    "solution2": "hidden",
    "solution2_first": true
   },
   "source": [
    "1. Suppose that you have two Python identifiers `x` and `y` that have been assigned some values. Show how to swap the values that `x` and `y` refer to using tuple assignment."
   ]
  },
  {
   "cell_type": "code",
   "execution_count": 6,
   "metadata": {
    "solution2": "hidden"
   },
   "outputs": [
    {
     "name": "stdout",
     "output_type": "stream",
     "text": [
      "2.0\n",
      "1\n"
     ]
    }
   ],
   "source": [
    "%%python\n",
    "\n",
    "x = 1\n",
    "y = 2.0\n",
    "x, y = y, x\n",
    "print(x)\n",
    "print(y)"
   ]
  },
  {
   "cell_type": "markdown",
   "metadata": {},
   "source": [
    "2. Suppose that you have two Java variables `x`  and `y` of type `int` that have been assigned some values. Show how to swap the values of `x` and `y`. Note that you must introduce a third variable to help perform the swap."
   ]
  },
  {
   "cell_type": "code",
   "execution_count": 7,
   "metadata": {},
   "outputs": [
    {
     "name": "stdout",
     "output_type": "stream",
     "text": [
      "3\n",
      "2\n"
     ]
    },
    {
     "data": {
      "t../plain": "null"
     },
     "execution_count": 7,
     "metadata": {},
     "output_type": "execute_result"
    }
   ],
   "source": [
    "int x;\n",
    "int y;\n",
    "x = 2;\n",
    "y = 3;\n",
    "\n",
    "int tmp = x..// remember the old value of x\n",
    "x = y;     ..// overwrite the value stored in x with the value stored in y\n",
    "y = tmp;   ..// overwrite the value stored in y with the old value of x\n",
    "System.out.println(x);\n",
    "System.out.println(y);"
   ]
  }
 ],
 "metadata": {
  "kernelspec": {
   "display_name": "Java",
   "language": "java",
   "name": "java"
  },
  "language_info": {
   "codemirror_mode": "text/x-java",
   "file_extension": ".java",
   "mimetype": "",
   "name": "Java",
   "nbconverter_exporter": "",
   "version": "11.0.1-internal"
  },
  "toc": {
   "base_numbering": 1,
   "nav_menu": {},
   "number_sections": false,
   "sideBar": false,
   "skip_h1_title": false,
   "title_cell": "Table of Contents",
   "title_sidebar": "Contents",
   "toc_cell": false,
   "toc_position": {},
   "toc_section_display": false,
   "toc_window_display": false
  }
 },
 "nbformat": 4,
 "nbformat_minor": 4
}
