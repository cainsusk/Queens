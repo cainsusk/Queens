{
 "cells": [
  {
   "cell_type": "markdown",
   "metadata": {},
   "source": [
    "# Statements\n",
    "\n",
    "Quoting from the official _Java Tutorial_ :\n",
    "\n",
    "> Statements are roughly equivalent to sentences in natural languages. A statement forms a complete unit of execution.\n",
    "\n",
    "We will use the Python terms _simple statement_ and _compound statements_ to categorize statements but readers should be mindful that the Java Language Specification does not use these terms. The term _simple statement_ describes a statement that is made up of a single line of code that does not require a following statement or statements to be syntatically correct. The term _compound statement_ describes a statement that does require a following statement or statements to be syntactically correct."
   ]
  },
  {
   "cell_type": "markdown",
   "metadata": {},
   "source": [
    "## Python statements\n",
    "\n",
    "### Simple statements\n",
    "In Python, simple statements _may_ end with a semi-colon `;` but this is very rarely done by most Python programmers. For example, the following statement is legal in Python:"
   ]
  },
  {
   "cell_type": "code",
   "execution_count": 3,
   "metadata": {},
   "outputs": [],
   "source": [
    "%%python\n",
    "\n",
    "x = 1 + 2 * 4;  # assignment statement ending with a ;"
   ]
  },
  {
   "cell_type": "markdown",
   "metadata": {},
   "source": [
    "Most Python programmers would simply write:"
   ]
  },
  {
   "cell_type": "code",
   "execution_count": 4,
   "metadata": {},
   "outputs": [],
   "source": [
    "%%python\n",
    "\n",
    "x = 1 + 2 * 4"
   ]
  },
  {
   "cell_type": "markdown",
   "metadata": {},
   "source": [
    "The semi-colon can be used to write multiple simple statements on a single line, but this is generally discouraged because it can cause poor readability. Instead, statements are separated by placing them on separate lines:"
   ]
  },
  {
   "cell_type": "code",
   "execution_count": 5,
   "metadata": {},
   "outputs": [
    {
     "name": "stdout",
     "output_type": "stream",
     "text": [
      "9\n"
     ]
    }
   ],
   "source": [
    "%%python\n",
    "\n",
    "x = 1 + 2 * 4   # assignment statement\n",
    "print(x)        # print statement"
   ]
  },
  {
   "cell_type": "markdown",
   "metadata": {},
   "source": [
    "### Compound statements\n",
    "\n",
    "Compound statements in Python contain groups of statements and usually (but not always) span multiple lines of code. A compound statement has one or more _clauses_ where a clause consists of a _header_ and a _suite_. \n",
    "\n",
    "A header starts with a Python keyword and ends with a colon. `if`, `while`, `for`, and `try` are examples of Python keywords that can occur at the start of a header.\n",
    "\n",
    "A suite is one or more statements controlled by a clause. The statements making up a suite usually start on the line after the header and are indented.\n",
    "\n",
    "Examples of compound statements include `if`, `while`, `for`, and `try` statements, as well as function and class definitions. The following are some examples of Python compound statements:"
   ]
  },
  {
   "cell_type": "code",
   "execution_count": 3,
   "metadata": {},
   "outputs": [
    {
     "name": "stdout",
     "output_type": "stream",
     "text": [
      "4 is even\n",
      "i = 0, j = 0\n",
      "i = 1, j = 2\n",
      "i = 2, j = 4\n",
      "i = 3, j = 6\n",
      "i = 4, j = 8\n"
     ]
    }
   ],
   "source": [
    "%%python\n",
    "\n",
    "# if statement\n",
    "if 4 % 2 == 0: \n",
    "    print('4 is even')\n",
    "else:\n",
    "    print('4 is odd')\n",
    "\n",
    "# for statement\n",
    "for i in range(5):\n",
    "    j = i * 2;\n",
    "    print('i = ' + str(i) + ', j = ' + str(j))\n",
    "\n",
    "# function definition statement\n",
    "def silly_sum(x, y, z):\n",
    "    the_sum = x + y + z\n",
    "    return the_sum"
   ]
  },
  {
   "cell_type": "markdown",
   "metadata": {},
   "source": [
    "Recall that Python uses indentation to group statements. If a suite starts on a new line after a header then it must be indented. For example, removing the indentation of the `print` statements from the `if` statement shown in the previous example results in a syntax error:"
   ]
  },
  {
   "cell_type": "code",
   "execution_count": 2,
   "metadata": {},
   "outputs": [
    {
     "ename": "IndentationError",
     "evalue": "expected an indented block (<ipython-input-2-5b99aaa4ae91>, line 2)",
     "output_type": "error",
     "traceback": [
      "\u001b[0;36m  File \u001b[0;32m\"<ipython-input-2-5b99aaa4ae91>\"\u001b[0;36m, line \u001b[0;32m2\u001b[0m\n\u001b[0;31m    print('4 is even')\u001b[0m\n\u001b[0m        ^\u001b[0m\n\u001b[0;31mIndentationError\u001b[0m\u001b[0;31m:\u001b[0m expected an indented block\n"
     ]
    }
   ],
   "source": [
    "%%python\n",
    "\n",
    "if 4 % 2 == 0:\n",
    "print('4 is even')   # oops, missing indentation of suite\n",
    "else:\n",
    "print('4 is odd')    # oops, missing indentation of suite"
   ]
  },
  {
   "cell_type": "markdown",
   "metadata": {},
   "source": [
    "## Java statements\n",
    "\n",
    "### Simple statements\n",
    "\n",
    "A simple statement in Java must end with a semi-colon `;`. For example, the following two statements in Java are correct:"
   ]
  },
  {
   "cell_type": "code",
   "execution_count": 7,
   "metadata": {},
   "outputs": [
    {
     "data": {
      "t../plain": "null"
     },
     "execution_count": 7,
     "metadata": {},
     "output_type": "execute_result"
    }
   ],
   "source": [
    "int x;         ..// local variable declaration statement\n",
    "x = 1 + 2 * 4; ..// assignment statement"
   ]
  },
  {
   "cell_type": "markdown",
   "metadata": {},
   "source": [
    "Omitting the ending semi-colons results in the compiler issuing two syntax errors:"
   ]
  },
  {
   "cell_type": "code",
   "execution_count": 8,
   "metadata": {},
   "outputs": [
    {
     "ename": "';' expected",
     "evalue": "';' expected",
     "output_type": "error",
     "traceback": [
      "\u001b[1;31m';' expected\u001b[0;0m",
      "\u001b[1;31m int x\u001b[0;0m",
      "\u001b[1;31m      ^\u001b[0;0m",
      "\u001b[1;31m\u001b[0;0m",
      "\u001b[1;31m';' expected\u001b[0;0m",
      "\u001b[1;31m x = 1 + 2 * 4\u001b[0;0m",
      "\u001b[1;31m              ^\u001b[0;0m"
     ]
    }
   ],
   "source": [
    "int x\n",
    "x = 1 + 2 * 4"
   ]
  },
  {
   "cell_type": "markdown",
   "metadata": {},
   "source": [
    "Notice that the newline character is _not_ a statement separator in Java. "
   ]
  },
  {
   "cell_type": "markdown",
   "metadata": {},
   "source": [
    "### Compound statements\n",
    "\n",
    "Compound statements in Java contain groups of statements"
   ]
  }
 ],
 "metadata": {
  "kernelspec": {
   "display_name": "Java",
   "language": "java",
   "name": "java"
  },
  "language_info": {
   "codemirror_mode": "text/x-java",
   "file_extension": ".java",
   "mimetype": "",
   "name": "Java",
   "nbconverter_exporter": "",
   "version": "11.0.1-internal"
  },
  "toc": {
   "base_numbering": 1,
   "nav_menu": {},
   "number_sections": false,
   "sideBar": false,
   "skip_h1_title": false,
   "title_cell": "Table of Contents",
   "title_sidebar": "Contents",
   "toc_cell": false,
   "toc_position": {},
   "toc_section_display": false,
   "toc_window_display": false
  }
 },
 "nbformat": 4,
 "nbformat_minor": 4
}
